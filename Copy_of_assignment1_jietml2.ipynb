{
  "nbformat": 4,
  "nbformat_minor": 0,
  "metadata": {
    "colab": {
      "name": "Copy of assignment1_jietml2.ipynb",
      "provenance": [],
      "authorship_tag": "ABX9TyOqjvwl67fBKetJzTOl9qAW",
      "include_colab_link": true
    },
    "kernelspec": {
      "name": "python3",
      "display_name": "Python 3"
    }
  },
  "cells": [
    {
      "cell_type": "markdown",
      "metadata": {
        "id": "view-in-github",
        "colab_type": "text"
      },
      "source": [
        "<a href=\"https://colab.research.google.com/github/chandorasakshi/assignment/blob/master/Copy_of_assignment1_jietml2.ipynb\" target=\"_parent\"><img src=\"https://colab.research.google.com/assets/colab-badge.svg\" alt=\"Open In Colab\"/></a>"
      ]
    },
    {
      "cell_type": "code",
      "metadata": {
        "id": "z9eE348lLJ1i",
        "colab_type": "code",
        "outputId": "58777d67-cb48-450f-a1ab-6cabe2ed3e5c",
        "colab": {
          "base_uri": "https://localhost:8080/",
          "height": 34
        }
      },
      "source": [
        "#ques1\n",
        "s={4,4,5,6,8,4,5}\n",
        "print(s)"
      ],
      "execution_count": 0,
      "outputs": [
        {
          "output_type": "stream",
          "text": [
            "{8, 4, 5, 6}\n"
          ],
          "name": "stdout"
        }
      ]
    },
    {
      "cell_type": "code",
      "metadata": {
        "id": "rv3Z0jogODdT",
        "colab_type": "code",
        "outputId": "0d0a76fc-7f45-47d2-dcb6-70dde84169b6",
        "colab": {
          "base_uri": "https://localhost:8080/",
          "height": 101
        }
      },
      "source": [
        "#ques2\n",
        "t=(6,7,8,1)\n",
        "print(len(t))\n",
        "print(sum(t))\n",
        "print(max(t))\n",
        "print(min(t))\n",
        "print(t)"
      ],
      "execution_count": 0,
      "outputs": [
        {
          "output_type": "stream",
          "text": [
            "4\n",
            "22\n",
            "8\n",
            "1\n",
            "(6, 7, 8, 1)\n"
          ],
          "name": "stdout"
        }
      ]
    },
    {
      "cell_type": "code",
      "metadata": {
        "id": "EGH9AHQWRyXt",
        "colab_type": "code",
        "outputId": "f8e6d811-28b2-4fd0-bf86-ff35c58d48a4",
        "colab": {
          "base_uri": "https://localhost:8080/",
          "height": 67
        }
      },
      "source": [
        "#ques3\n",
        "\n",
        "num=int(input(\"num=\"))\n",
        "i=int(input(\"i= \" ))\n",
        "mag_num=15 >> i\n",
        "bit =15 if{num & mag_num >0} else 0\n",
        "print(bit)\n"
      ],
      "execution_count": 0,
      "outputs": [
        {
          "output_type": "stream",
          "text": [
            "num=13\n",
            "i= 1\n",
            "15\n"
          ],
          "name": "stdout"
        }
      ]
    },
    {
      "cell_type": "code",
      "metadata": {
        "id": "aeE9boy4-rEe",
        "colab_type": "code",
        "outputId": "524f2bb4-9e09-421c-a37b-e802d485d29a",
        "colab": {
          "base_uri": "https://localhost:8080/",
          "height": 67
        }
      },
      "source": [
        "#ques4\n",
        "a=[\"1\" , \"0\"]\n",
        "print(\"enter the number\")\n",
        "no=input()\n",
        "print(a[int (no) % 2])"
      ],
      "execution_count": 0,
      "outputs": [
        {
          "output_type": "stream",
          "text": [
            "enter the number\n",
            "2\n",
            "1\n"
          ],
          "name": "stdout"
        }
      ]
    },
    {
      "cell_type": "code",
      "metadata": {
        "id": "3GGzHvsDYMkp",
        "colab_type": "code",
        "outputId": "c97c3e0e-03e8-4487-f904-b195dbd61f71",
        "colab": {
          "base_uri": "https://localhost:8080/",
          "height": 84
        }
      },
      "source": [
        "#ques6\n",
        "marks={70:'berlin',0:'oslo',50:'moscow',100:'nairobi'}\n",
        "for s in sorted(marks):\n",
        "  print(s,\":\",marks[s])"
      ],
      "execution_count": 0,
      "outputs": [
        {
          "output_type": "stream",
          "text": [
            "0 : oslo\n",
            "50 : moscow\n",
            "70 : berlin\n",
            "100 : nairobi\n"
          ],
          "name": "stdout"
        }
      ]
    },
    {
      "cell_type": "code",
      "metadata": {
        "id": "8-aOxm8yRkcg",
        "colab_type": "code",
        "outputId": "87a08eb1-91d5-47d8-eb6e-66fdf79ee6a3",
        "colab": {
          "base_uri": "https://localhost:8080/",
          "height": 34
        }
      },
      "source": [
        "#ques5\n",
        "a=[2,3,4]\n",
        "b=[5,6,7]\n",
        "c=a+b\n",
        "print(c)"
      ],
      "execution_count": 0,
      "outputs": [
        {
          "output_type": "stream",
          "text": [
            "[2, 3, 4, 5, 6, 7]\n"
          ],
          "name": "stdout"
        }
      ]
    }
  ]
}